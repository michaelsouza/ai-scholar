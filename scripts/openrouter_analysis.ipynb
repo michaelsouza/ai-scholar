{
 "cells": [
  {
   "cell_type": "code",
   "execution_count": null,
   "id": "84e085ca-fa23-4ef5-89f9-3a12401844d4",
   "metadata": {},
   "outputs": [],
   "source": [
    "import pandas as pd"
   ]
  },
  {
   "cell_type": "code",
   "execution_count": null,
   "id": "d3523680-9aa8-49a8-8ca9-73e6d7299c90",
   "metadata": {},
   "outputs": [],
   "source": [
    "fn_xlsx = \"/home/michael/gitrepos/ai-scholar/data/openrouter_models_20250929.xlsx\"\n",
    "df = pd.read_excel(fn_xlsx)\n",
    "display(df.head())\n",
    "df.columns"
   ]
  },
  {
   "cell_type": "code",
   "execution_count": null,
   "id": "316a99e3-9ec3-4832-8d7b-d857022711b6",
   "metadata": {},
   "outputs": [],
   "source": [
    "df_small = df[ df[\"Reasoning\"] & df[\"Tools\"] & (df['Completion ($/1M)'] > 0) & (df['Completion ($/1M)'] < 1) ]\n",
    "df_small.sort_values(by='Completion ($/1M)')"
   ]
  }
 ],
 "metadata": {
  "kernelspec": {
   "display_name": "Python 3 (ipykernel)",
   "language": "python",
   "name": "python3"
  },
  "language_info": {
   "codemirror_mode": {
    "name": "ipython",
    "version": 3
   },
   "file_extension": ".py",
   "mimetype": "text/x-python",
   "name": "python",
   "nbconvert_exporter": "python",
   "pygments_lexer": "ipython3",
   "version": "3.11.2"
  }
 },
 "nbformat": 4,
 "nbformat_minor": 5
}
